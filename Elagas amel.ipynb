{
 "cells": [
  {
   "cell_type": "markdown",
   "metadata": {},
   "source": [
    "# Travail à faire \n",
    "\n",
    "#### Réalisé par :  <span style='color:blue '> ELAGAS amel  2DNI </span>"
   ]
  },
  {
   "cell_type": "markdown",
   "metadata": {},
   "source": [
    "   ### Algorithmes de tri\n",
    "  ####  1. Tri par sélection\n",
    "  ####  2. Tri à bulle\n",
    "  ####  3. Tri par insertion\n",
    "  ####  4. Tri par fusion\n",
    "  ####  5. Tri par rapide"
   ]
  },
  {
   "cell_type": "markdown",
   "metadata": {},
   "source": [
    "####  <span style='color:blue '> Tri à bulle </span>  :\n",
    "\n",
    "L’algorithme de tri à bulles est connu comme l’algorithme de tri le plus simple. Dans l’algorithme de tri à bulle, le tableau est parcouru du premier au dernier élément. Ici, l’élément courant est comparé à l’élément suivant. Si l’élément en cours est supérieur à l’élément suivant, il est échangé. Voici l'algorithme en python:"
   ]
  },
  {
   "cell_type": "code",
   "execution_count": 19,
   "metadata": {},
   "outputs": [
    {
     "name": "stdout",
     "output_type": "stream",
     "text": [
      "Le tableau trié est:\n",
      "2\n",
      "15\n",
      "22\n",
      "32\n",
      "63\n",
      "70\n",
      "74\n",
      "98\n"
     ]
    }
   ],
   "source": [
    " def tri_bulle(t):\n",
    "    n = len(t)\n",
    "    for i in range(n):\n",
    "        for j in range(0, n-i-1):\n",
    "            if t[j] > t[j+1] :\n",
    "                t[j], t[j+1] = t[j+1], t[j]\n",
    "                \n",
    "t= [98, 22, 15, 32, 2, 74, 63, 70]\n",
    " \n",
    "tri_bulle(t)\n",
    " \n",
    "print (\"Le tableau trié est:\")\n",
    "for i in range(len(t)):\n",
    "    print (\"%d\" %t[i])"
   ]
  },
  {
   "cell_type": "markdown",
   "metadata": {},
   "source": [
    "####   <span style='color:blue '> Tri par fusion </span> :\n",
    "Le tri fusion se base sur le principe diviser pour régner.\n",
    "\n",
    "Si le tableau a une seule case, alors il est considéré comme trié.\n",
    "Sinon, on découpe le tableau en deux parties de même taille (à une case près, si le nombre d’éléments du tableau est impair) et on trie chacune des deux parties.\n",
    "On fusionne les deux parties triées."
   ]
  },
  {
   "cell_type": "code",
   "execution_count": 18,
   "metadata": {},
   "outputs": [
    {
     "name": "stdout",
     "output_type": "stream",
     "text": [
      "diviser  [98, 22, 15, 32, 2, 74, 63, 70]\n",
      "diviser  [98, 22, 15, 32]\n",
      "diviser  [98, 22]\n",
      "diviser  [98]\n",
      "diviser  [22]\n",
      "régner  [22]\n",
      "régner  [22, 98]\n",
      "diviser  [15, 32]\n",
      "diviser  [15]\n",
      "diviser  [32]\n",
      "régner  [15]\n",
      "régner  [15, 32]\n",
      "régner  [15]\n",
      "régner  [15, 22]\n",
      "régner  [15, 22, 32]\n",
      "régner  [15, 22, 32, 98]\n",
      "diviser  [2, 74, 63, 70]\n",
      "diviser  [2, 74]\n",
      "diviser  [2]\n",
      "diviser  [74]\n",
      "régner  [2]\n",
      "régner  [2, 74]\n",
      "diviser  [63, 70]\n",
      "diviser  [63]\n",
      "diviser  [70]\n",
      "régner  [63]\n",
      "régner  [63, 70]\n",
      "régner  [2]\n",
      "régner  [2, 63]\n",
      "régner  [2, 63, 70]\n",
      "régner  [2, 63, 70, 74]\n",
      "régner  [2]\n",
      "régner  [2, 15]\n",
      "régner  [2, 15, 22]\n",
      "régner  [2, 15, 22, 32]\n",
      "régner  [2, 15, 22, 32, 63]\n",
      "régner  [2, 15, 22, 32, 63, 70]\n",
      "régner  [2, 15, 22, 32, 63, 70, 74]\n",
      "régner  [2, 15, 22, 32, 63, 70, 74, 98]\n",
      "[2, 15, 22, 32, 63, 70, 74, 98]\n"
     ]
    }
   ],
   "source": [
    "def merge_sort(array):\n",
    "  \n",
    "    print(\"diviser \",array)\n",
    "    if len(array) < 2:\n",
    "        return array\n",
    "\n",
    "    midpoint = len(array) // 2\n",
    "    \n",
    "    return merge(\n",
    "        left=merge_sort(array[:midpoint]),\n",
    "        right=merge_sort(array[midpoint:]))\n",
    "\n",
    "def merge(left, right):\n",
    "    \n",
    "    if len(left) == 0:\n",
    "        return right\n",
    "\n",
    "    if len(right) == 0:\n",
    "        return left\n",
    "\n",
    "    result = []\n",
    "    index_left = index_right = 0\n",
    "\n",
    "\n",
    "    while len(result) < len(left) + len(right):\n",
    "        \n",
    "        if left[index_left] <= right[index_right]:\n",
    "            result.append(left[index_left])\n",
    "            index_left += 1\n",
    "            print(\"régner \",result)\n",
    "        else:\n",
    "            result.append(right[index_right])\n",
    "            index_right += 1\n",
    "            print(\"régner \",result)\n",
    "\n",
    "        if index_right == len(right):\n",
    "            result += left[index_left:]\n",
    "            print(\"régner \",result)\n",
    "            break\n",
    "\n",
    "        if index_left == len(left):\n",
    "            result += right[index_right:]\n",
    "            print(\"régner \",result)\n",
    "            break\n",
    "        \n",
    "    return result\n",
    "list =[98, 22, 15, 32, 2, 74, 63, 70]\n",
    "\n",
    "fin=merge_sort(list)\n",
    "print(fin)"
   ]
  },
  {
   "cell_type": "markdown",
   "metadata": {},
   "source": [
    "####   <span style='color:blue '> Tri rapide  </span>  :\n",
    "Le principe de ce tri est d’ordonner le vecteur v[0..n] en cherchant dans celui-ci une clé pivot autour de laquelle réorganiser ses éléments. Il est souhaitable que le pivot soit aussi proche que possible de la clé relative à l’enregistrement central du vecteur, afin qu’il y ait à peu près autant d’éléments le précédant que le suivant, soit environ la moitié des éléments du tableau.\n",
    "\n",
    "Le choix du pivot est déterminant pour l'efficacité de ce tri. Plusieurs options sont possibles :\n",
    "\n",
    "\n",
    "\n",
    "\n",
    "Choisir le premier élément du tableau\n",
    "\n",
    "Choisir le dernier élément du tableau\n",
    "\n",
    "Choisir un élément au hasard\n",
    "\n",
    "Choisir l'élément au milieu du tableau\n",
    "\n",
    "Trouver le pivot optimal en recherchant la médiane\n",
    " \n",
    "\n",
    "\n",
    "\n"
   ]
  },
  {
   "cell_type": "code",
   "execution_count": 17,
   "metadata": {},
   "outputs": [
    {
     "name": "stdout",
     "output_type": "stream",
     "text": [
      "Le tableau trié est:\n",
      "2\n",
      "15\n",
      "22\n",
      "32\n",
      "63\n",
      "70\n",
      "74\n",
      "98\n"
     ]
    }
   ],
   "source": [
    "def partition(arr, low, high):\n",
    "    i = (low-1)        \n",
    "    pivot = arr[high]     \n",
    " \n",
    "    for j in range(low, high):\n",
    "        if arr[j] <= pivot:\n",
    "            i = i+1\n",
    "            arr[i], arr[j] = arr[j], arr[i]\n",
    " \n",
    "    arr[i+1], arr[high] = arr[high], arr[i+1]\n",
    "    return (i+1)\n",
    "\n",
    "def quickSort(arr, low, high):\n",
    "    if len(arr) == 1:\n",
    "        return arr\n",
    "    if low < high:\n",
    " \n",
    "        pi = partition(arr, low, high)\n",
    "\n",
    "        quickSort(arr, low, pi-1)\n",
    "        quickSort(arr, pi+1, high)\n",
    " \n",
    " \n",
    "#########PP##########\n",
    "list =[98, 22, 15, 32, 2, 74, 63, 70]\n",
    "n = len(list) \n",
    "quickSort(list, 0, n-1)\n",
    "print (\"Le tableau trié est:\")\n",
    "for i in range(n):\n",
    "    print(\"%d\" % list[i]),"
   ]
  },
  {
   "cell_type": "markdown",
   "metadata": {},
   "source": [
    " ####   <span style='color:blue '> Tri par insertion   </span>  : "
   ]
  },
  {
   "cell_type": "markdown",
   "metadata": {},
   "source": [
    "L’algorithme du tri par insertion n’est utile que pour les petits éléments, car elle nécessite plus de temps pour trier un grand nombre d’éléments. Voici l'algorithme :"
   ]
  },
  {
   "cell_type": "code",
   "execution_count": null,
   "metadata": {},
   "outputs": [],
   "source": [
    "def tri_insertion(tab): \n",
    "    # Parcour de 1 à la taille du tab\n",
    "    for i in range(1, len(tab)): \n",
    "        k = tab[i] \n",
    "        j = i-1\n",
    "        while j >= 0 and k < tab[j] : \n",
    "                tab[j + 1] = tab[j] \n",
    "                j -= 1\n",
    "        tab[j + 1] = k\n",
    "# Programme principale pour tester le code ci-dessus\n",
    "tab = [98, 22, 15, 32, 2, 74, 63, 70]\n",
    "tri_insertion(tab) \n",
    "print (\"Le tableau trié est:\")\n",
    "for i in range(len(tab)): \n",
    "    print (\"% d\" % tab[i])"
   ]
  },
  {
   "cell_type": "markdown",
   "metadata": {},
   "source": [
    "####   <span style='color:red '> Remarque :  </span> \n",
    "L’algorithme du tri par insertion n’est utile que pour les petits éléments, car elle nécessite plus de temps pour trier un grand nombre d’éléments."
   ]
  },
  {
   "cell_type": "markdown",
   "metadata": {},
   "source": [
    " ####   <span style='color:blue '> Tri par sélection :  </span>  "
   ]
  },
  {
   "cell_type": "markdown",
   "metadata": {},
   "source": [
    "Dans l’algorithme de tri par sélection, nous cherchons l’élément le plus petit et on le met au bon endroit. Nous échangeons l’élément en cours avec le prochain élément le plus petit"
   ]
  },
  {
   "cell_type": "code",
   "execution_count": 22,
   "metadata": {},
   "outputs": [
    {
     "name": "stdout",
     "output_type": "stream",
     "text": [
      "Le tableau trié est:\n",
      "1\n",
      "1\n",
      "1\n",
      "1\n",
      "2\n",
      "5\n",
      "5\n",
      "80\n"
     ]
    }
   ],
   "source": [
    "def tri_selection(t):\n",
    "   for i in range(len(t)):# len(t) fois de une affectation et un boucle fe \n",
    "       min = i #1 aff n fois\n",
    "       for j in range(i+1, len(t)):#le nombre de fois d'excution de ces deux \n",
    "                                     #opération est len(t)-1 \n",
    "           if t[min] > t[j]: #une opération \n",
    "               min = j# une affectation \n",
    "                \n",
    "       aux = t[i]# 1 aff\n",
    "       t[i] = t[min]#1 aff\n",
    "       tab[min] = aux#1 aff\n",
    "   return t\n",
    "###############\n",
    "\n",
    "t= [10, 200, 15, 1, 2, 9, 5, 80]\n",
    " \n",
    "tri_selection(t)\n",
    " \n",
    "print (\"Le tableau trié est:\")\n",
    "for i in range(len(t)):\n",
    "    print (\"%d\" %t[i])"
   ]
  },
  {
   "cell_type": "code",
   "execution_count": null,
   "metadata": {},
   "outputs": [],
   "source": []
  }
 ],
 "metadata": {
  "kernelspec": {
   "display_name": "Python 3",
   "language": "python",
   "name": "python3"
  },
  "language_info": {
   "codemirror_mode": {
    "name": "ipython",
    "version": 3
   },
   "file_extension": ".py",
   "mimetype": "text/x-python",
   "name": "python",
   "nbconvert_exporter": "python",
   "pygments_lexer": "ipython3",
   "version": "3.8.3"
  }
 },
 "nbformat": 4,
 "nbformat_minor": 4
}
